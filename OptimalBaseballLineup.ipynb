{
  "nbformat": 4,
  "nbformat_minor": 0,
  "metadata": {
    "colab": {
      "provenance": [],
      "authorship_tag": "ABX9TyNwJSN3yS5/gSZM8yvf052j",
      "include_colab_link": true
    },
    "kernelspec": {
      "name": "python3",
      "display_name": "Python 3"
    },
    "language_info": {
      "name": "python"
    }
  },
  "cells": [
    {
      "cell_type": "markdown",
      "metadata": {
        "id": "view-in-github",
        "colab_type": "text"
      },
      "source": [
        "<a href=\"https://colab.research.google.com/github/brian-feldman-3/baseball_lineups/blob/main/OptimalBaseballLineup.ipynb\" target=\"_parent\"><img src=\"https://colab.research.google.com/assets/colab-badge.svg\" alt=\"Open In Colab\"/></a>"
      ]
    },
    {
      "cell_type": "markdown",
      "source": [
        "The purpose of this tool is to evaluate the optimized lineup for a baseball team based on each players' current statistics."
      ],
      "metadata": {
        "id": "C1gRaWEmnBxe"
      }
    },
    {
      "cell_type": "code",
      "source": [
        "import numpy as np\n",
        "from numpy import random\n",
        "import pandas as pd\n",
        "pd.options.mode.chained_assignment = None\n"
      ],
      "metadata": {
        "id": "jjGC2I-Gozrp"
      },
      "execution_count": 32,
      "outputs": []
    },
    {
      "cell_type": "code",
      "source": [
        "#Import data from Baseball Reference website for a single team (for testing)\n",
        "\n",
        "url = 'https://www.baseball-reference.com/teams/BOS/2025-batting.shtml'\n",
        "\n",
        "# Read the HTML tables from the URL\n",
        "current_red_sox = pd.read_html(url)\n",
        "current_red_sox_df = current_red_sox[0]\n",
        "current_red_sox_df = current_red_sox_df[['Player', 'PA', 'H', '2B', '3B', 'HR', 'BB']]\n",
        "\n",
        "#Delete rows with player named \"Player\" and \"Team Totals\"\n",
        "current_red_sox_df.drop(current_red_sox_df.loc[current_red_sox_df['Player'] == 'Player'].index, inplace = True)\n",
        "current_red_sox_df.drop(current_red_sox_df.loc[current_red_sox_df['Player'] == 'Team Totals'].index, inplace = True)\n",
        "\n",
        "#Make all plate possiblities integers and create a column for singles\n",
        "current_red_sox_df[['PA', 'H', '2B', '3B', 'HR', 'BB']] = current_red_sox_df[['PA', 'H', '2B', '3B', 'HR', 'BB']].astype(int)\n",
        "current_red_sox_df['1B'] = current_red_sox_df['H']-current_red_sox_df['2B']-current_red_sox_df['3B']-current_red_sox_df['HR']\n",
        "\n",
        "#Remove players below a certain plate appearance threshold\n",
        "plate_appearance_threshold = 1\n",
        "current_red_sox_df.drop(current_red_sox_df.loc[current_red_sox_df['PA'] < plate_appearance_threshold].index, inplace = True)\n",
        "\n",
        "#Now, we replace each plate possiblity with its percent chance of happening, but first get rid of weird sac flies and stuff so we add to 100\n",
        "current_red_sox_df['OUT'] = current_red_sox_df['PA'] - (current_red_sox_df['1B'] + current_red_sox_df['2B'] + current_red_sox_df['3B'] + current_red_sox_df['HR'] + current_red_sox_df['BB'])\n",
        "for hit_type in ['1B', '2B', '3B', 'HR', 'BB', 'OUT']:\n",
        "  current_red_sox_df[hit_type] = current_red_sox_df[hit_type]/current_red_sox_df['PA']\n",
        "\n",
        "#We now round these to 3 decimals, multipyly by 1000 and create length 1000 list for each hitter of outcomes\n",
        "for hit_type in ['1B', '2B', '3B', 'HR', 'BB', 'OUT']:\n",
        "  current_red_sox_df[hit_type] = current_red_sox_df[hit_type].round(3)\n",
        "  current_red_sox_df[hit_type] = current_red_sox_df[hit_type]*1000\n",
        "\n",
        "#Create player dictionary with a list of possible plate appearance outcomes as the key\n",
        "player_dict = dict()\n",
        "for player in current_red_sox_df['Player']:\n",
        "  player_dict[player] = (['HR']*int(current_red_sox_df.loc[current_red_sox_df['Player'] == player, 'HR'])\n",
        "                         + ['3B']*int(current_red_sox_df.loc[current_red_sox_df['Player'] == player, '3B'])\n",
        "                         + ['2B']*int(current_red_sox_df.loc[current_red_sox_df['Player'] == player, '2B'])\n",
        "                         + ['1B']*int(current_red_sox_df.loc[current_red_sox_df['Player'] == player, '1B'])\n",
        "                         + ['OUT']*int(current_red_sox_df.loc[current_red_sox_df['Player'] == player, 'OUT']))\n",
        "\n",
        "#We want to shuffle all plater appearance outcomes (although we expect true randomness in random.rand, we do this to be sure)\n",
        "for value in player_dict.values():\n",
        "  value = np.random.shuffle(value)\n",
        "\n",
        "#We need to create a way to ignore traded players because they are included in the team table even after they are traded\n",
        "#traded_players"
      ],
      "metadata": {
        "colab": {
          "base_uri": "https://localhost:8080/"
        },
        "id": "rGNcJNNBoDXW",
        "outputId": "a3b4fc48-9e23-4fcf-8f88-a696b9ab0589"
      },
      "execution_count": 46,
      "outputs": [
        {
          "output_type": "stream",
          "name": "stderr",
          "text": [
            "/tmp/ipython-input-3059246214.py:35: FutureWarning: Calling int on a single element Series is deprecated and will raise a TypeError in the future. Use int(ser.iloc[0]) instead\n",
            "  player_dict[player] = (['HR']*int(current_red_sox_df.loc[current_red_sox_df['Player'] == player, 'HR'])\n",
            "/tmp/ipython-input-3059246214.py:36: FutureWarning: Calling int on a single element Series is deprecated and will raise a TypeError in the future. Use int(ser.iloc[0]) instead\n",
            "  + ['3B']*int(current_red_sox_df.loc[current_red_sox_df['Player'] == player, '3B'])\n",
            "/tmp/ipython-input-3059246214.py:37: FutureWarning: Calling int on a single element Series is deprecated and will raise a TypeError in the future. Use int(ser.iloc[0]) instead\n",
            "  + ['2B']*int(current_red_sox_df.loc[current_red_sox_df['Player'] == player, '2B'])\n",
            "/tmp/ipython-input-3059246214.py:38: FutureWarning: Calling int on a single element Series is deprecated and will raise a TypeError in the future. Use int(ser.iloc[0]) instead\n",
            "  + ['1B']*int(current_red_sox_df.loc[current_red_sox_df['Player'] == player, '1B'])\n",
            "/tmp/ipython-input-3059246214.py:39: FutureWarning: Calling int on a single element Series is deprecated and will raise a TypeError in the future. Use int(ser.iloc[0]) instead\n",
            "  + ['OUT']*int(current_red_sox_df.loc[current_red_sox_df['Player'] == player, 'OUT']))\n"
          ]
        }
      ]
    },
    {
      "cell_type": "code",
      "execution_count": 3,
      "metadata": {
        "colab": {
          "base_uri": "https://localhost:8080/"
        },
        "id": "hH7ja-X1nAJ9",
        "outputId": "dac7662f-f5e3-442a-950c-bb8b192b35d5"
      },
      "outputs": [
        {
          "output_type": "stream",
          "name": "stdout",
          "text": [
            "1\n",
            "2\n",
            "3\n",
            "4\n",
            "5\n",
            "6\n",
            "7\n",
            "8\n",
            "9\n"
          ]
        }
      ],
      "source": [
        "#Initialize 0 outs in the first inning\n",
        "out_count = 0\n",
        "batter_number = 0\n",
        "lineup = ['Jarren Duran', 'Rafael Devers']\n",
        "\n",
        "for inning_count in range(1,10):\n",
        "  batter_up = lineup(batter_number)\n",
        "  batter_outcome = np.random.choice(player_dict(batter_up),\n",
        "  batter_number = batter_number + 1"
      ]
    }
  ]
}