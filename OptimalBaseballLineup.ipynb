{
  "nbformat": 4,
  "nbformat_minor": 0,
  "metadata": {
    "colab": {
      "provenance": [],
      "authorship_tag": "ABX9TyPrJh//jcSJtN0WtH+xdhNA",
      "include_colab_link": true
    },
    "kernelspec": {
      "name": "python3",
      "display_name": "Python 3"
    },
    "language_info": {
      "name": "python"
    }
  },
  "cells": [
    {
      "cell_type": "markdown",
      "metadata": {
        "id": "view-in-github",
        "colab_type": "text"
      },
      "source": [
        "<a href=\"https://colab.research.google.com/github/brian-feldman-3/baseball_lineups/blob/main/OptimalBaseballLineup.ipynb\" target=\"_parent\"><img src=\"https://colab.research.google.com/assets/colab-badge.svg\" alt=\"Open In Colab\"/></a>"
      ]
    },
    {
      "cell_type": "markdown",
      "source": [
        "The purpose of this tool is to evaluate the optimized lineup for a baseball team based on each players' current statistics."
      ],
      "metadata": {
        "id": "C1gRaWEmnBxe"
      }
    },
    {
      "cell_type": "code",
      "source": [
        "import numpy as np\n",
        "from numpy import random\n",
        "import pandas as pd\n",
        "pd.options.mode.chained_assignment = None\n"
      ],
      "metadata": {
        "id": "jjGC2I-Gozrp"
      },
      "execution_count": 2,
      "outputs": []
    },
    {
      "cell_type": "code",
      "source": [
        "#Import data from Baseball Reference website for a single team (for testing)\n",
        "\n",
        "url = 'https://www.baseball-reference.com/teams/BOS/2025-batting.shtml'\n",
        "\n",
        "# Read the HTML tables from the URL\n",
        "current_red_sox = pd.read_html(url)\n",
        "current_red_sox_df = current_red_sox[0]\n",
        "current_red_sox_df = current_red_sox_df[['Player', 'PA', 'H', '2B', '3B', 'HR', 'BB']]\n",
        "\n",
        "#Delete rows with player named \"Player\" and \"Team Totals\"\n",
        "current_red_sox_df.drop(current_red_sox_df.loc[current_red_sox_df['Player'] == 'Player'].index, inplace = True)\n",
        "current_red_sox_df.drop(current_red_sox_df.loc[current_red_sox_df['Player'] == 'Team Totals'].index, inplace = True)\n",
        "\n",
        "#Make all plate possiblities integers and create a column for singles\n",
        "current_red_sox_df[['PA', 'H', '2B', '3B', 'HR', 'BB']] = current_red_sox_df[['PA', 'H', '2B', '3B', 'HR', 'BB']].astype(int)\n",
        "current_red_sox_df['1B'] = current_red_sox_df['H']-current_red_sox_df['2B']-current_red_sox_df['3B']-current_red_sox_df['HR']\n",
        "\n",
        "#Remove players below a certain plate appearance threshold\n",
        "plate_appearance_threshold = 1\n",
        "current_red_sox_df.drop(current_red_sox_df.loc[current_red_sox_df['PA'] < plate_appearance_threshold].index, inplace = True)\n",
        "\n",
        "#Now, we replace each plate possiblity with its percent chance of happening, but first get rid of weird sac flies and stuff so we add to 100\n",
        "current_red_sox_df['OUT'] = current_red_sox_df['PA'] - (current_red_sox_df['1B'] + current_red_sox_df['2B'] + current_red_sox_df['3B'] + current_red_sox_df['HR'] + current_red_sox_df['BB'])\n",
        "for hit_type in ['1B', '2B', '3B', 'HR', 'BB', 'OUT']:\n",
        "  current_red_sox_df[hit_type] = current_red_sox_df[hit_type]/current_red_sox_df['PA']\n",
        "\n",
        "#We now round these to 3 decimals, multipyly by 1000 and create length 1000 list for each hitter of outcomes\n",
        "for hit_type in ['1B', '2B', '3B', 'HR', 'BB', 'OUT']:\n",
        "  current_red_sox_df[hit_type] = current_red_sox_df[hit_type].round(3)\n",
        "  current_red_sox_df[hit_type] = current_red_sox_df[hit_type]*1000\n",
        "\n",
        "#Create player dictionary with a list of possible plate appearance outcomes as the key\n",
        "player_dict = dict()\n",
        "for player in current_red_sox_df['Player']:\n",
        "  player_dict[player] = (['HR']*int(current_red_sox_df.loc[current_red_sox_df['Player'] == player, 'HR'])\n",
        "                         + ['3B']*int(current_red_sox_df.loc[current_red_sox_df['Player'] == player, '3B'])\n",
        "                         + ['2B']*int(current_red_sox_df.loc[current_red_sox_df['Player'] == player, '2B'])\n",
        "                         + ['1B']*int(current_red_sox_df.loc[current_red_sox_df['Player'] == player, '1B'])\n",
        "                         + ['OUT']*int(current_red_sox_df.loc[current_red_sox_df['Player'] == player, 'OUT']))\n",
        "\n",
        "#We want to shuffle all plater appearance outcomes (although we expect true randomness in random.rand, we do this to be sure)\n",
        "for value in player_dict.values():\n",
        "  value = np.random.shuffle(value)\n",
        "\n",
        "#We need to create a way to ignore traded players because they are included in the team table even after they are traded\n",
        "#traded_players"
      ],
      "metadata": {
        "colab": {
          "base_uri": "https://localhost:8080/"
        },
        "id": "rGNcJNNBoDXW",
        "outputId": "2ba80f69-9b2e-496d-a1e0-cf4838389726"
      },
      "execution_count": 3,
      "outputs": [
        {
          "output_type": "stream",
          "name": "stderr",
          "text": [
            "/tmp/ipython-input-68765379.py:35: FutureWarning: Calling int on a single element Series is deprecated and will raise a TypeError in the future. Use int(ser.iloc[0]) instead\n",
            "  player_dict[player] = (['HR']*int(current_red_sox_df.loc[current_red_sox_df['Player'] == player, 'HR'])\n",
            "/tmp/ipython-input-68765379.py:36: FutureWarning: Calling int on a single element Series is deprecated and will raise a TypeError in the future. Use int(ser.iloc[0]) instead\n",
            "  + ['3B']*int(current_red_sox_df.loc[current_red_sox_df['Player'] == player, '3B'])\n",
            "/tmp/ipython-input-68765379.py:37: FutureWarning: Calling int on a single element Series is deprecated and will raise a TypeError in the future. Use int(ser.iloc[0]) instead\n",
            "  + ['2B']*int(current_red_sox_df.loc[current_red_sox_df['Player'] == player, '2B'])\n",
            "/tmp/ipython-input-68765379.py:38: FutureWarning: Calling int on a single element Series is deprecated and will raise a TypeError in the future. Use int(ser.iloc[0]) instead\n",
            "  + ['1B']*int(current_red_sox_df.loc[current_red_sox_df['Player'] == player, '1B'])\n",
            "/tmp/ipython-input-68765379.py:39: FutureWarning: Calling int on a single element Series is deprecated and will raise a TypeError in the future. Use int(ser.iloc[0]) instead\n",
            "  + ['OUT']*int(current_red_sox_df.loc[current_red_sox_df['Player'] == player, 'OUT']))\n"
          ]
        }
      ]
    },
    {
      "cell_type": "code",
      "execution_count": 4,
      "metadata": {
        "id": "hH7ja-X1nAJ9"
      },
      "outputs": [],
      "source": [
        "def game_simulation(lineup):\n",
        "  #Initialize 0 outs in the first inning\n",
        "  runs_scored = 0\n",
        "  batter_number = 0\n",
        "\n",
        "  #Create a list of binary base values depending on if there is a runner on-base or not\n",
        "  bases = [0, 0, 0]\n",
        "\n",
        "  #We iterate through each inning, each plate appearance (assuming no extra innings)\n",
        "  for inning_count in range(1,10):\n",
        "    out_count = 0\n",
        "    while out_count < 3:\n",
        "      batter_up = lineup[batter_number]\n",
        "      batter_outcome = np.random.choice(player_dict[batter_up])\n",
        "      #print(f\"{batter_up} up to bat. Outcome: {batter_outcome}\")\n",
        "      if batter_outcome == 'HR':\n",
        "        runs_scored = runs_scored + sum(bases) + 1\n",
        "        bases = [0, 0, 0]\n",
        "      elif batter_outcome == '3B':\n",
        "        runs_scored = runs_scored + sum(bases)\n",
        "        bases = [0, 0, 1]\n",
        "      elif batter_outcome == '2B':\n",
        "        #According to a quick search, 45% of runners score from first, 70% score from second, and we assume all score from third\n",
        "        #If there is only a runner on first, we use the 45% chance to see where they end up\n",
        "        #If there is a runner on first and second, we see what the runner on second does first, then respond accordingly\n",
        "        if bases[0] == 1 & bases[1] == 1:\n",
        "          #Runner on first and second (and maybe third, does not matter for our calculating)\n",
        "          #One runner must score via push, the second runner is coming from 1st and has a 45% chance of scoring\n",
        "          runner_on_first_outcome = np.random.choice(['score', 'does not score'], p=[0.45, 0.55])\n",
        "          if runner_on_first_outcome == 'score':\n",
        "            runs_scored = runs_scored + sum(bases)\n",
        "            bases = [0, 1, 0]\n",
        "          else:\n",
        "            runs_scored = runs_scored + sum(bases) - 1\n",
        "            bases = [0, 1, 1]\n",
        "        elif bases[0] == 1 & bases[1] == 0:\n",
        "          #Runner on first only\n",
        "          runner_on_first_outcome = np.random.choice(['score', 'does not score'], p=[0.45, 0.55])\n",
        "          if runner_on_first_outcome == 'score':\n",
        "            runs_scored = runs_scored + sum(bases)\n",
        "            bases = [0, 1, 0]\n",
        "          else:\n",
        "            runs_scored = runs_scored + bases[2]\n",
        "            bases = [0, 1, 1]\n",
        "        else:\n",
        "          #Nobody on first, only second and ~maybe~ third\n",
        "          runner_on_second_outcome = np.random.choice(['score', 'does not score'], p=[0.7, 0.3])\n",
        "          if runner_on_second_outcome == 'score':\n",
        "            runs_scored = runs_scored + bases[2] + bases[1]\n",
        "            bases = [0, 1, 0]\n",
        "          else:\n",
        "            runs_scored = runs_scored + bases[2]\n",
        "            bases = [0, 1, 1]\n",
        "      elif batter_outcome == '1B':\n",
        "        #Runner ~never~ scores from first on a single. Runner scores from second 40% of the time, runner scores from 3rd 100% of the time\n",
        "        if bases[2] == 1:\n",
        "          runs_scored = runs_scored + 1\n",
        "        if bases[1] == 1:\n",
        "          runner_on_second_outcome = np.random.choice(['score', 'does not score'], p=[0.4, 0.6])\n",
        "          if runner_on_second_outcome == 'score':\n",
        "            runs_scored = runs_scored + 1\n",
        "            if bases[0] == 1:\n",
        "              bases = [1, 0, 1]\n",
        "            else:\n",
        "              bases = [1, 0, 0]\n",
        "          else:\n",
        "            if bases[0] == 1:\n",
        "              bases = [1, 1, 1]\n",
        "            else:\n",
        "              bases = [1, 0, 1]\n",
        "      elif batter_outcome == 'BB':\n",
        "        if bases == [1, 0, 0]:\n",
        "          bases = [1, 1, 0]\n",
        "        elif bases == [1, 1, 0]:\n",
        "          bases = [1, 1, 1]\n",
        "        elif bases == [1, 1, 1]:\n",
        "          bases = [1, 1, 1]\n",
        "          runs_scored = runs_scored + 1\n",
        "        elif bases == [1, 0, 1]:\n",
        "          bases = [1, 1, 1]\n",
        "      else:\n",
        "        out_count += 1\n",
        "      #print(f\"{inning_count} inning.\\n{out_count} outs\\n{bases[0]} on first\\n{bases[1]} on second\\n{bases[2]} on third\\n{runs_scored} runs have scored.\")\n",
        "\n",
        "      if batter_number == 8:\n",
        "        batter_number = 0\n",
        "      else:\n",
        "        batter_number += 1\n",
        "  return runs_scored\n"
      ]
    },
    {
      "cell_type": "code",
      "source": [
        "def game_simulation_ninth_batter_intentional_out(lineup):\n",
        "  #Initialize 0 outs in the first inning\n",
        "  runs_scored = 0\n",
        "  batter_number = 0\n",
        "\n",
        "  #Create a list of binary base values depending on if there is a runner on-base or not\n",
        "  bases = [0, 0, 0]\n",
        "\n",
        "  #We iterate through each inning, each plate appearance (assuming no extra innings)\n",
        "  for inning_count in range(1,10):\n",
        "    out_count = 0\n",
        "    while out_count < 3:\n",
        "      batter_up = lineup[batter_number]\n",
        "      batter_outcome = np.random.choice(player_dict[batter_up])\n",
        "      ########################################\n",
        "      ##Below is intentional out from last batter in the lineup##\n",
        "      if batter_number == 8 & out_count == 2 & inning_count != 9:\n",
        "        if batter_outcome == 'BB':\n",
        "          batter_outcome = 'BB'\n",
        "        else:\n",
        "          batter_outcome = 'OUT'\n",
        "      ########################################\n",
        "      #print(f\"{batter_up} up to bat. Outcome: {batter_outcome}\")\n",
        "      if batter_outcome == 'HR':\n",
        "        runs_scored = runs_scored + sum(bases) + 1\n",
        "        bases = [0, 0, 0]\n",
        "      elif batter_outcome == '3B':\n",
        "        runs_scored = runs_scored + sum(bases)\n",
        "        bases = [0, 0, 1]\n",
        "      elif batter_outcome == '2B':\n",
        "        #According to a quick search, 45% of runners score from first, 70% score from second, and we assume all score from third\n",
        "        #If there is only a runner on first, we use the 45% chance to see where they end up\n",
        "        #If there is a runner on first and second, we see what the runner on second does first, then respond accordingly\n",
        "        if bases[0] == 1 & bases[1] == 1:\n",
        "          #Runner on first and second (and maybe third, does not matter for our calculating)\n",
        "          #One runner must score via push, the second runner is coming from 1st and has a 45% chance of scoring\n",
        "          runner_on_first_outcome = np.random.choice(['score', 'does not score'], p=[0.45, 0.55])\n",
        "          if runner_on_first_outcome == 'score':\n",
        "            runs_scored = runs_scored + sum(bases)\n",
        "            bases = [0, 1, 0]\n",
        "          else:\n",
        "            runs_scored = runs_scored + sum(bases) - 1\n",
        "            bases = [0, 1, 1]\n",
        "        elif bases[0] == 1 & bases[1] == 0:\n",
        "          #Runner on first only\n",
        "          runner_on_first_outcome = np.random.choice(['score', 'does not score'], p=[0.45, 0.55])\n",
        "          if runner_on_first_outcome == 'score':\n",
        "            runs_scored = runs_scored + sum(bases)\n",
        "            bases = [0, 1, 0]\n",
        "          else:\n",
        "            runs_scored = runs_scored + bases[2]\n",
        "            bases = [0, 1, 1]\n",
        "        else:\n",
        "          #Nobody on first, only second and ~maybe~ third\n",
        "          runner_on_second_outcome = np.random.choice(['score', 'does not score'], p=[0.7, 0.3])\n",
        "          if runner_on_second_outcome == 'score':\n",
        "            runs_scored = runs_scored + bases[2] + bases[1]\n",
        "            bases = [0, 1, 0]\n",
        "          else:\n",
        "            runs_scored = runs_scored + bases[2]\n",
        "            bases = [0, 1, 1]\n",
        "      elif batter_outcome == '1B':\n",
        "        #Runner ~never~ scores from first on a single. Runner scores from second 40% of the time, runner scores from 3rd 100% of the time\n",
        "        if bases[2] == 1:\n",
        "          runs_scored = runs_scored + 1\n",
        "        if bases[1] == 1:\n",
        "          runner_on_second_outcome = np.random.choice(['score', 'does not score'], p=[0.4, 0.6])\n",
        "          if runner_on_second_outcome == 'score':\n",
        "            runs_scored = runs_scored + 1\n",
        "            if bases[0] == 1:\n",
        "              bases = [1, 0, 1]\n",
        "            else:\n",
        "              bases = [1, 0, 0]\n",
        "          else:\n",
        "            if bases[0] == 1:\n",
        "              bases = [1, 1, 1]\n",
        "            else:\n",
        "              bases = [1, 0, 1]\n",
        "      elif batter_outcome == 'BB':\n",
        "        if bases == [1, 0, 0]:\n",
        "          bases = [1, 1, 0]\n",
        "        elif bases == [1, 1, 0]:\n",
        "          bases = [1, 1, 1]\n",
        "        elif bases == [1, 1, 1]:\n",
        "          bases = [1, 1, 1]\n",
        "          runs_scored = runs_scored + 1\n",
        "        elif bases == [1, 0, 1]:\n",
        "          bases = [1, 1, 1]\n",
        "      else:\n",
        "        out_count += 1\n",
        "      #print(f\"{inning_count} inning.\\n{out_count} outs\\n{bases[0]} on first\\n{bases[1]} on second\\n{bases[2]} on third\\n{runs_scored} runs have scored.\")\n",
        "\n",
        "      if batter_number == 8:\n",
        "        batter_number = 0\n",
        "      else:\n",
        "        batter_number += 1\n",
        "  return runs_scored"
      ],
      "metadata": {
        "id": "vga9174RgY8w"
      },
      "execution_count": 18,
      "outputs": []
    },
    {
      "cell_type": "code",
      "source": [
        "current_BOS_lineup = ['Roman Anthony*', 'Alex Bregman', 'Jarren Duran*', 'Trevor Story', 'Nathaniel Lowe*', 'Masataka Yoshida*', 'Ceddanne Rafaela', 'David Hamilton*', 'Connor Wong']\n",
        "\n",
        "regular_results = []\n",
        "for game_count in range(1,10000):\n",
        "    runs_scored = game_simulation(current_BOS_lineup)\n",
        "    regular_results.append(runs_scored)\n",
        "\n",
        "intentional_out_results = []\n",
        "for game_count_intentional_out in range(1,10000):\n",
        "    runs_scored = game_simulation_ninth_batter_intentional_out(current_BOS_lineup)\n",
        "    intentional_out_results.append(runs_scored)\n",
        "\n",
        "print(f\"Regular lineup averages {sum(regular_results)/len(regular_results)} and intentional out averages {sum(intentional_out_results)/len(intentional_out_results)}\")"
      ],
      "metadata": {
        "colab": {
          "base_uri": "https://localhost:8080/"
        },
        "id": "G3YfIrQei8PJ",
        "outputId": "14ec854e-5cb3-46b2-9111-ae069e4a61c9"
      },
      "execution_count": 19,
      "outputs": [
        {
          "output_type": "stream",
          "name": "stdout",
          "text": [
            "Regular lineup averages 5.22062206220622 and intentional out averages 4.546254625462546\n"
          ]
        }
      ]
    },
    {
      "cell_type": "code",
      "source": [
        "# def randomize_lineup(team_names):\n",
        "#   final_lineup = np.random.choice(list(team_names), 9, replace=False)\n",
        "#   return final_lineup"
      ],
      "metadata": {
        "id": "x9bupvlZxefD"
      },
      "execution_count": 10,
      "outputs": []
    },
    {
      "cell_type": "code",
      "source": [
        "# team_names = ['Carlos Narváez', 'Abraham Toro#', 'Kristian Campbell', 'Trevor Story', 'Alex Bregman', 'Jarren Duran*', 'Ceddanne Rafaela', 'Wilyer Abreu*', 'Rafael Devers*']"
      ],
      "metadata": {
        "id": "5OdBdKYmsSDY"
      },
      "execution_count": 9,
      "outputs": []
    },
    {
      "cell_type": "code",
      "source": [
        "##Use this cell to randomize the lineup, then run 100 iterations\n",
        "# lineup_list = []\n",
        "# lineup_run_avg = []\n",
        "\n",
        "# for lineup_count in range(1, 6):\n",
        "#   print(lineup_count)\n",
        "#   lineup = randomize_lineup(player_dict.keys())\n",
        "#   lineup_list.append(lineup)\n",
        "#   all_results = []\n",
        "#   for game_count in range(1,1000):\n",
        "#     runs_scored = game_simulation(lineup)\n",
        "#     all_results.append(runs_scored)\n",
        "#   lineup_run_avg.append(sum(all_results)/len(all_results))\n",
        "\n",
        "# print(lineup_list)\n",
        "# print(lineup_run_avg)\n"
      ],
      "metadata": {
        "id": "wCM-VbAav_jO"
      },
      "execution_count": 8,
      "outputs": []
    },
    {
      "cell_type": "code",
      "source": [],
      "metadata": {
        "id": "yWSqxhUwtGtt"
      },
      "execution_count": null,
      "outputs": []
    }
  ]
}